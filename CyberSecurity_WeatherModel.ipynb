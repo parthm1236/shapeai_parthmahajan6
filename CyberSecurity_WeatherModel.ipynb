{
  "nbformat": 4,
  "nbformat_minor": 0,
  "metadata": {
    "colab": {
      "name": "CyberSecurity_WeatherModel.ipynb",
      "provenance": [],
      "collapsed_sections": []
    },
    "kernelspec": {
      "name": "python3",
      "display_name": "Python 3"
    },
    "language_info": {
      "name": "python"
    }
  },
  "cells": [
    {
      "cell_type": "code",
      "metadata": {
        "id": "FiI__58OSbog"
      },
      "source": [
        "import requests\n",
        "from datetime import datetime"
      ],
      "execution_count": 20,
      "outputs": []
    },
    {
      "cell_type": "code",
      "metadata": {
        "colab": {
          "base_uri": "https://localhost:8080/"
        },
        "id": "nKxF-tReVdjz",
        "outputId": "3fbf553b-4027-4a40-a8d3-138fbbdd268d"
      },
      "source": [
        "api_key = 'd73fcb7c95c21edb44c7500d68ab617d'\n",
        "location = input(\"Enter the city name: \")"
      ],
      "execution_count": 21,
      "outputs": [
        {
          "output_type": "stream",
          "text": [
            "Enter the city name: kolhapur\n"
          ],
          "name": "stdout"
        }
      ]
    },
    {
      "cell_type": "code",
      "metadata": {
        "id": "9fEcIIOcYRF-"
      },
      "source": [
        "complete_api_link = 'https://api.openweathermap.org/data/2.5/weather?q='+location+'&appid='+api_key\n",
        "api_link = requests.get(complete_api_link)\n",
        "api_data = api_link.json()"
      ],
      "execution_count": 22,
      "outputs": []
    },
    {
      "cell_type": "code",
      "metadata": {
        "colab": {
          "base_uri": "https://localhost:8080/"
        },
        "id": "3BflxUDzZ8dj",
        "outputId": "903dc178-cb30-4ae7-bdd0-e0b4c2cc7f6b"
      },
      "source": [
        "temp_city = ((api_data['main']['temp']) - 273.15)\n",
        "weather_desc = api_data['weather'][0]['description']\n",
        "hmdt = api_data['weather'][0]['description']\n",
        "wind_spd = api_data['main']['humidity']\n",
        "wind_spd = api_data['wind']['speed']\n",
        "date_time = datetime.now().strftime('%d %b %Y | %I:%M:%S %p')\n",
        "\n",
        "print('----------------------------------------')\n",
        "print('Weather Stats for - {} || {}'.format(location.upper(), date_time))\n",
        "print('----------------------------------------')\n",
        "print('Current temperature is: {:.2f} deg C'.format(temp_city))\n",
        "print('Current weather desc :',weather_desc)\n",
        "print('Current Humidity     :',hmdt, '%')\n",
        "print('Current wind speed   :',wind_spd ,'kmph')"
      ],
      "execution_count": 23,
      "outputs": [
        {
          "output_type": "stream",
          "text": [
            "----------------------------------------\n",
            "Weather Stats for - KOLHAPUR || 23 Jun 2021 | 03:45:49 PM\n",
            "----------------------------------------\n",
            "Current temperature is: 23.42 deg C\n",
            "Current weather desc : overcast clouds\n",
            "Current Humidity     : overcast clouds %\n",
            "Current wind speed   : 3.66 kmph\n"
          ],
          "name": "stdout"
        }
      ]
    },
    {
      "cell_type": "code",
      "metadata": {
        "id": "TTxX-jyyhcnV"
      },
      "source": [
        "file= open('weatherdata.txt', 'a')"
      ],
      "execution_count": 24,
      "outputs": []
    },
    {
      "cell_type": "code",
      "metadata": {
        "id": "PHzXZocYhrwE"
      },
      "source": [
        "heading = \"\\n\\n\\t\\tWeather Stats for - {}  || {}\\n\\n\".format(location.upper(), date_time)\n",
        "city_name = \"Current temperature is: {:.2f} deg C\\n\".format(temp_city)\n",
        "weather_desc = \"Current weather desc  : {}\\n\".format(weather_desc)\n",
        "humadity = \"Current Humidity      : {}% \\n\".format(hmdt)\n",
        "wind_speed = \"Current wind speed    : {} Kmph \\n\""
      ],
      "execution_count": 25,
      "outputs": []
    },
    {
      "cell_type": "code",
      "metadata": {
        "colab": {
          "base_uri": "https://localhost:8080/"
        },
        "id": "8qPIsNUGidaa",
        "outputId": "01baf7c1-1696-4fbe-ea38-f4b1adc2d676"
      },
      "source": [
        "file.write(\n",
        "        heading + city_name + weather_desc + humadity + wind_speed\n",
        "    )"
      ],
      "execution_count": 26,
      "outputs": [
        {
          "output_type": "execute_result",
          "data": {
            "text/plain": [
              "215"
            ]
          },
          "metadata": {
            "tags": []
          },
          "execution_count": 26
        }
      ]
    },
    {
      "cell_type": "code",
      "metadata": {
        "id": "XPXpydeCif_x"
      },
      "source": [
        "file.close()"
      ],
      "execution_count": 27,
      "outputs": []
    }
  ]
}